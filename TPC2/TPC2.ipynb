{
 "cells": [
  {
   "cell_type": "markdown",
   "metadata": {},
   "source": [
    "### TPC2: Adivinha o número\n",
    "- Crie um programa em Python para jogar o jogo \"Adivinha o número\":\n",
    "    - O jogo pode ter 2 modalidades: computador pensa num número (entre 0 e 100), utilizador tenta adivinhar; ou, o utilizador pensa num número (entre 0 e 100) e o computador tenta adivinhar;\n",
    "    - Quem tenta adivinhar responde com uma das afirmações: \"Acertou\", \"O número que pensei é Maior\" ou \"O número que pensei é Menor\";\n",
    "    - Uma vez descoberto o número o programa deverá terminar imprimindo o número de tentativas que quem adivinhou usou para chegar ao resultado."
   ]
  },
  {
   "cell_type": "code",
   "execution_count": 2,
   "metadata": {},
   "outputs": [
    {
     "name": "stdout",
     "output_type": "stream",
     "text": [
      "Tente adivinhar o número que o computador pensou. Está entre 0 e 100!\n",
      "O número que eu pensei é maior.\n",
      "O número que eu pensei é maior.\n",
      "O número que eu pensei é maior.\n",
      "O número que eu pensei é maior.\n",
      "O número que eu pensei é menor.\n",
      "O número que eu pensei é menor.\n",
      "O número que eu pensei é menor.\n",
      "O número que eu pensei é menor.\n",
      "O número que eu pensei é menor.\n",
      "O número que eu pensei é menor.\n",
      "Acertaste! O número era 76 !\n",
      "Numero de tentativas = 77.\n"
     ]
    }
   ],
   "source": [
    "import random\n",
    "def adivinha():\n",
    "    valor = random.randint(0, 100) #gera um numero inteiro aleatorio num itervalo de 0 a 100 inclusive\n",
    "    tentativas = 0 #contagem começa a 0 \n",
    "    acertou = False #começamos com a condição ser falsa\n",
    "    \n",
    "    print(\"Tente adivinhar o número que o computador pensou. Está entre 0 e 100!\") #pc gera e so depois e que questionamos \n",
    "    \n",
    "    while not acertou: #enquanto que acertou é falsa \n",
    "        #acertou começa como False, e while acertou: verificaria essa condição diretamente.Como acertou é inicialmente False, o laço nunca começaria a rodar, já que a condição seria falsa desde o início.\n",
    "        tentativa = int(input(\"Escreva aqui a sua tentativa: \"))  #pedimos que escreva a tentativa\n",
    "        tentativas = tentativa + 1 #somar a contagem de acordo com o numero de ciclos\n",
    "        \n",
    "        if tentativa < valor:\n",
    "            print(\"O número que eu pensei é maior.\")\n",
    "        elif tentativa > valor:\n",
    "            print(\"O número que eu pensei é menor.\")\n",
    "        else:\n",
    "            print(\"Acertaste! O número era \" + str(valor) + \" !\")\n",
    "            print(\"Numero de tentativas = \" + str(tentativas) + \".\")\n",
    "            acertou = True\n",
    "\n",
    "adivinha()"
   ]
  }
 ],
 "metadata": {
  "kernelspec": {
   "display_name": "Python 3",
   "language": "python",
   "name": "python3"
  },
  "language_info": {
   "codemirror_mode": {
    "name": "ipython",
    "version": 3
   },
   "file_extension": ".py",
   "mimetype": "text/x-python",
   "name": "python",
   "nbconvert_exporter": "python",
   "pygments_lexer": "ipython3",
   "version": "3.11.5"
  }
 },
 "nbformat": 4,
 "nbformat_minor": 2
}
